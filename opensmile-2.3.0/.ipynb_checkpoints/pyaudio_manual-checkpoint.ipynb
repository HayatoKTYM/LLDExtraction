{
 "cells": [
  {
   "cell_type": "code",
   "execution_count": 2,
   "metadata": {},
   "outputs": [],
   "source": [
    "import wave     #wavファイルを扱うためのライブラリ\n",
    "import pyaudio \n",
    "import numpy as np\n",
    "import matplotlib.pyplot as plt\n",
    "\n",
    "WAVE_OUTPUT_FILENAME = \"sample.wav\" #音声を保存するファイル名\n",
    "iDeviceIndex = 0 #録音デバイスのインデックス番号"
   ]
  },
  {
   "cell_type": "code",
   "execution_count": null,
   "metadata": {},
   "outputs": [],
   "source": []
  },
  {
   "cell_type": "code",
   "execution_count": 1,
   "metadata": {},
   "outputs": [],
   "source": [
    "def MakeWavFile(RATE = 16000, \n",
    "                           chunk = 1024, \n",
    "                           CHANNELS = 1, \n",
    "                           FileName = \"sample.wav\", \n",
    "                           Record_Seconds = 2):\n",
    "    \n",
    "    \"\"\"\n",
    "    標準入力をwavに書き出す関数\n",
    "    \"\"\"\n",
    "    \n",
    "    FORMAT = pyaudio.paInt16\n",
    "    \n",
    "    p = pyaudio.PyAudio()\n",
    "    \n",
    "    stream = p.open(format = FORMAT,\n",
    "                    channels = CHANNELS,\n",
    "                    rate = RATE,\n",
    "                    input = True,\n",
    "                    input_device_index = 0,\n",
    "                    frames_per_buffer = chunk)\n",
    "    \n",
    "    #レコード開始\n",
    "    print(\"Now Recording...\")\n",
    "    all = []\n",
    "    for i in range(0, int(RATE / chunk * Record_Seconds)):\n",
    "        data = stream.read(chunk) #音声を読み取って、 ######ここをSmile instanceに渡す\n",
    "        all.append(data) #データを追加\n",
    "    \n",
    "    #レコード終了\n",
    "    print(\"Finished Recording.\")\n",
    "    \n",
    "    stream.close()\n",
    "    p.terminate()\n",
    "    wavFile = wave.open(FileName, 'wb')\n",
    "    wavFile.setnchannels(CHANNELS)\n",
    "    wavFile.setsampwidth(p.get_sample_size(FORMAT))\n",
    "    wavFile.setframerate(RATE)\n",
    "    #wavFile.writeframes(b''.join(all)) #Python2 用\n",
    "    wavFile.writeframes(b\"\".join(all)) #Python3用\n",
    "    \n",
    "    wavFile.close()"
   ]
  },
  {
   "cell_type": "code",
   "execution_count": 3,
   "metadata": {},
   "outputs": [
    {
     "name": "stdout",
     "output_type": "stream",
     "text": [
      "Now Recording...\n",
      "Finished Recording.\n"
     ]
    }
   ],
   "source": [
    "import time\n",
    "#WAVファイル作成, 引数は（ファイル名, 録音する秒数）\n",
    "for i in range(0,1):\n",
    "    time.sleep(0.1)\n",
    "    output_file = \"sample_\" + str(i) + \".wav\"\n",
    "    MakeWavFile(FileName = output_file, Record_Seconds = 2) \n",
    "    "
   ]
  },
  {
   "cell_type": "code",
   "execution_count": null,
   "metadata": {},
   "outputs": [],
   "source": []
  },
  {
   "cell_type": "code",
   "execution_count": null,
   "metadata": {},
   "outputs": [],
   "source": []
  },
  {
   "cell_type": "code",
   "execution_count": 9,
   "metadata": {},
   "outputs": [],
   "source": [
    "def PlayWavFie(Filename = \"sample.wav\"):\n",
    "    try:\n",
    "        wf = wave.open(Filename, \"r\")\n",
    "    except FileNotFoundError: #ファイルが存在しなかった場合\n",
    "        print(\"[Error 404] No such file or directory: \" + Filename)\n",
    "        return 0\n",
    "        \n",
    "    # ストリームを開く\n",
    "    p = pyaudio.PyAudio()\n",
    "    stream = p.open(format=p.get_format_from_width(wf.getsampwidth()),\n",
    "                    channels=wf.getnchannels(),\n",
    "                    rate=wf.getframerate(),\n",
    "                    output=True)\n",
    "\n",
    "    # 音声を再生\n",
    "    chunk = 1024\n",
    "    data = wf.readframes(chunk)\n",
    "    while data != '':\n",
    "        stream.write(data)\n",
    "        data = wf.readframes(chunk)\n",
    "    stream.close()\n",
    "    p.terminate()"
   ]
  },
  {
   "cell_type": "code",
   "execution_count": 10,
   "metadata": {},
   "outputs": [],
   "source": []
  },
  {
   "cell_type": "code",
   "execution_count": null,
   "metadata": {},
   "outputs": [],
   "source": [
    "#音源の再生\n",
    "if __name__ is \"__main__\":\n",
    "    PlayWavFie(\"sample.wav\") "
   ]
  },
  {
   "cell_type": "code",
   "execution_count": null,
   "metadata": {},
   "outputs": [],
   "source": []
  },
  {
   "cell_type": "code",
   "execution_count": null,
   "metadata": {},
   "outputs": [],
   "source": []
  },
  {
   "cell_type": "code",
   "execution_count": null,
   "metadata": {},
   "outputs": [],
   "source": []
  },
  {
   "cell_type": "code",
   "execution_count": null,
   "metadata": {},
   "outputs": [],
   "source": []
  },
  {
   "cell_type": "code",
   "execution_count": null,
   "metadata": {},
   "outputs": [],
   "source": []
  },
  {
   "cell_type": "code",
   "execution_count": 12,
   "metadata": {},
   "outputs": [],
   "source": [
    "import threading\n",
    "import subprocess\n",
    "\n",
    "class SMILE(threading.Thread):\n",
    "    def __init__(self,cmd):\n",
    "        super(SMILE, self).__init__()\n",
    "        self.mutex = threading.Lock()\n",
    "        self._is_running = True\n",
    "        import subprocess\n",
    "        self.proc = subprocess.Popen(cmd, shell=True, stdin=subprocess.PIPE, stdout=subprocess.PIPE)\n",
    "        self.lines = []\n",
    "        self.write_header()\n",
    "        self.write_first_wav()\n",
    "        print(\"###recoeding start###\")\n",
    "        self.start()\n",
    "\n",
    "    def dummy_wav(self):\n",
    "        self.proc.stdin.write(b'\\x00\\x00' * int(16000 * 0.1))\n",
    "        self.proc.stdin.flush()\n",
    "\n",
    "    def write_first_wav(self):\n",
    "        self.proc.stdin.write(b'\\x00\\x00' * int(16000 * 0.05))\n",
    "        self.proc.stdin.flush()\n",
    "\n",
    "    def write_header(self):\n",
    "        header = b'RIFF\\xff\\xff\\xff\\xffWAVEfmt \\x10\\x00\\x00\\x00\\x01\\x00\\x01\\x00\\x80>\\x00\\x00\\x00}\\x00\\x00\\x02\\x00\\x10\\x00data\\xff\\xff\\xff\\xff\\x00\\x00\\x00\\x00'\n",
    "        self.proc.stdin.write(header)\n",
    "        self.proc.stdin.flush()\n",
    "\n",
    "    def write_wav_data(self, wav): \n",
    "        self.proc.stdin.write(wav)\n",
    "        self.proc.stdin.flush()\n",
    "\n",
    "    def run(self):\n",
    "        while self._is_running:\n",
    "            line = self.proc.stdout.readline()\n",
    "            if line == '':\n",
    "                return\n",
    "            self.mutex.acquire()\n",
    "            self.lines.append(line)\n",
    "            self.mutex.release()\n",
    "\n",
    "    def terminate(self):### __\n",
    "        self.dummy_wav()\n",
    "        self.proc.stdin.close()\n",
    "        time.sleep(0.2)\n",
    "        self.join()\n",
    "        self.proc.terminate()\n",
    "\n",
    "    def get_lines(self): ### 2\n",
    "        self.mutex.acquire()\n",
    "        r = self.lines\n",
    "        self.lines = []\n",
    "        self.mutex.release()\n",
    "        return r"
   ]
  },
  {
   "cell_type": "code",
   "execution_count": null,
   "metadata": {},
   "outputs": [],
   "source": []
  }
 ],
 "metadata": {
  "kernelspec": {
   "display_name": "Python 3",
   "language": "python",
   "name": "python3"
  },
  "language_info": {
   "codemirror_mode": {
    "name": "ipython",
    "version": 3
   },
   "file_extension": ".py",
   "mimetype": "text/x-python",
   "name": "python",
   "nbconvert_exporter": "python",
   "pygments_lexer": "ipython3",
   "version": "3.6.4"
  }
 },
 "nbformat": 4,
 "nbformat_minor": 2
}
